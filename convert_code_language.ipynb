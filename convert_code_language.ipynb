{
 "cells": [
  {
   "cell_type": "markdown",
   "metadata": {},
   "source": [
    "# Convert code language\n",
    "\n",
    "## Initialize"
   ]
  },
  {
   "cell_type": "code",
   "execution_count": 1,
   "metadata": {},
   "outputs": [],
   "source": [
    "import os\n",
    "from converter.analyzer.dependency.python_dependency_analyzer import PythonDependencyAnalyzer\n",
    "from common.get_code_file_path import GetCodeFilePath\n",
    "from converter.analyzer.code.python_code_analyzer import PythonCodeAnalyzer\n",
    "from converter.converter.cpp_code_converter import CppCodeConverter"
   ]
  },
  {
   "cell_type": "markdown",
   "metadata": {},
   "source": [
    "## Load code to be traslated"
   ]
  },
  {
   "cell_type": "markdown",
   "metadata": {},
   "source": [
    "### analyze directory"
   ]
  },
  {
   "cell_type": "code",
   "execution_count": 2,
   "metadata": {},
   "outputs": [],
   "source": [
    "dependency_analyzer = PythonDependencyAnalyzer(\"./work/sample\") # Directory which contains python files\n",
    "dependency_analyzer.get_python_files()\n",
    "dependency_analyzer.build_dependency_graph()\n",
    "dependency_analyzer.save_python_dependency_graph()"
   ]
  },
  {
   "cell_type": "markdown",
   "metadata": {},
   "source": [
    "### select file"
   ]
  },
  {
   "cell_type": "code",
   "execution_count": 3,
   "metadata": {},
   "outputs": [],
   "source": [
    "# result = GetCodeFilePath.get_file_path() # use this if you want to get file with dialog.\n",
    "result = GetCodeFilePath.get_file_path_with_arg(\"./work/sample/vector_3d.py\") # use this if you want to get file with argument.\n",
    "file_path = result[0]\n",
    "file_name = result[1]\n",
    "ext_type = result[2]\n",
    "\n",
    "save_folder_path = os.path.dirname(file_path) + \"/\""
   ]
  },
  {
   "cell_type": "markdown",
   "metadata": {},
   "source": [
    "### analyze"
   ]
  },
  {
   "cell_type": "code",
   "execution_count": 4,
   "metadata": {},
   "outputs": [],
   "source": [
    "code_analyzer = PythonCodeAnalyzer(file_name, file_path, save_folder_path, dependency_analyzer)\n",
    "\n",
    "code_analyzer.get_import_info_from_code()\n",
    "code_analyzer.generate_save_class_properties_info_from_code()\n",
    "code_analyzer.generate_save_class_methods_info_from_code()"
   ]
  },
  {
   "cell_type": "markdown",
   "metadata": {},
   "source": [
    "### Revise\n",
    "Check the generated json files. Revise them if needed."
   ]
  },
  {
   "cell_type": "code",
   "execution_count": 5,
   "metadata": {},
   "outputs": [],
   "source": [
    "code_analyzer.update_class_properties_methods_from_file()"
   ]
  },
  {
   "cell_type": "markdown",
   "metadata": {},
   "source": [
    "## Convert the code to another language\n",
    "\n",
    "### Generate skelton"
   ]
  },
  {
   "cell_type": "code",
   "execution_count": null,
   "metadata": {},
   "outputs": [],
   "source": [
    "converter = CppCodeConverter(ext_type, file_name, save_folder_path, \\\n",
    "                                 code_analyzer.get_parser(), code_analyzer.get_dependency_node_link_data())\n",
    "\n",
    "converter.create_header_file(code_analyzer.get_class_structure_info(), code_analyzer.get_import_info())"
   ]
  },
  {
   "cell_type": "markdown",
   "metadata": {},
   "source": [
    "### Generate body"
   ]
  },
  {
   "cell_type": "code",
   "execution_count": null,
   "metadata": {},
   "outputs": [],
   "source": [
    "converter.create_source_file(code_analyzer.get_original_code())"
   ]
  }
 ],
 "metadata": {
  "kernelspec": {
   "display_name": "Python 3",
   "language": "python",
   "name": "python3"
  },
  "language_info": {
   "codemirror_mode": {
    "name": "ipython",
    "version": 3
   },
   "file_extension": ".py",
   "mimetype": "text/x-python",
   "name": "python",
   "nbconvert_exporter": "python",
   "pygments_lexer": "ipython3",
   "version": "3.11.3"
  }
 },
 "nbformat": 4,
 "nbformat_minor": 2
}
